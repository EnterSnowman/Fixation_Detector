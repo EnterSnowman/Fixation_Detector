{
 "cells": [
  {
   "cell_type": "code",
   "execution_count": null,
   "metadata": {},
   "outputs": [],
   "source": [
    "import pandas as pd\n",
    "import glob\n",
    "import numpy as np\n",
    "import copy\n",
    "import matplotlib.pyplot as plt"
   ]
  },
  {
   "cell_type": "code",
   "execution_count": null,
   "metadata": {},
   "outputs": [],
   "source": [
    "time_col = 'TIME'\n",
    "position_cols = ['BPOGX', 'BPOGY']\n",
    "reading_col = 'FPOGID'\n",
    "fixation_col = 'Fixation'\n",
    "fixation_id_col = 'Fixation_ID'\n",
    "velocity_col = 'Velocity'\n",
    "distances_col = 'Distances'\n",
    "periods_col = 'Periods'\n",
    "# new pos cols\n",
    "abs_position_cols = ['ABS_X', 'ABS_Y']"
   ]
  },
  {
   "cell_type": "code",
   "execution_count": null,
   "metadata": {},
   "outputs": [],
   "source": [
    "pixel_width = 1920\n",
    "pixel_height = 1080\n",
    "params = [pixel_width, pixel_height]"
   ]
  },
  {
   "cell_type": "code",
   "execution_count": null,
   "metadata": {},
   "outputs": [],
   "source": [
    "dfs = {}\n",
    "for file in glob.glob(\"data/*/*text*.csv\"):\n",
    "    df = pd.read_csv(file)\n",
    "    df_cols = df.columns.values\n",
    "    df_cols[4] = 'TIME'\n",
    "    df.columns = df_cols\n",
    "    dfs[file] = df[position_cols + [reading_col] + [time_col]]\n",
    "    \n",
    "for filename, df in dfs.items():\n",
    "    print(filename)\n",
    "    for a, r, p in zip(abs_position_cols, position_cols, params):\n",
    "        df[a] = df[r]*p"
   ]
  },
  {
   "cell_type": "markdown",
   "metadata": {},
   "source": [
    "<h3>Calculate distances between points and velocity"
   ]
  },
  {
   "cell_type": "code",
   "execution_count": null,
   "metadata": {},
   "outputs": [],
   "source": [
    "diff_cols = ['DIFF_'+c for c in abs_position_cols]\n",
    "for filename, df in dfs.items():\n",
    "    for d, c in zip(diff_cols, abs_position_cols):\n",
    "        df[d] = df[c].diff().shift(-1)\n",
    "    df[periods_col] = df[time_col].diff().shift(-1)\n",
    "    df[distances_col] = np.square(df[diff_cols]).sum(axis=1).pow(1./2)\n",
    "    df[velocity_col] = df[distances_col] / df[periods_col]\n",
    "    df = df.fillna(method='ffill')"
   ]
  }
 ],
 "metadata": {
  "kernelspec": {
   "display_name": "Python 3",
   "language": "python",
   "name": "python3"
  },
  "language_info": {
   "codemirror_mode": {
    "name": "ipython",
    "version": 3
   },
   "file_extension": ".py",
   "mimetype": "text/x-python",
   "name": "python",
   "nbconvert_exporter": "python",
   "pygments_lexer": "ipython3",
   "version": "3.6.8"
  }
 },
 "nbformat": 4,
 "nbformat_minor": 2
}
