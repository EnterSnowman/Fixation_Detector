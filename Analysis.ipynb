{
 "cells": [
  {
   "cell_type": "code",
   "execution_count": 8,
   "metadata": {},
   "outputs": [],
   "source": [
    "import pandas as pd\n",
    "import glob\n",
    "import numpy as np\n",
    "import copy\n",
    "import matplotlib.pyplot as plt"
   ]
  },
  {
   "cell_type": "code",
   "execution_count": 9,
   "metadata": {},
   "outputs": [],
   "source": [
    "time_col = 'TIME'\n",
    "position_cols = ['BPOGX', 'BPOGY']\n",
    "reading_col = 'FPOGID'\n",
    "fixation_col = 'Fixation'\n",
    "fixation_id_col = 'Fixation_ID'\n",
    "velocity_col = 'Velocity'\n",
    "distances_col = 'Distances'\n",
    "periods_col = 'Periods'\n",
    "# valid flag\n",
    "valid_col = 'BPOGV'\n",
    "\n",
    "# new pos cols\n",
    "abs_position_cols = ['ABS_X', 'ABS_Y']"
   ]
  },
  {
   "cell_type": "code",
   "execution_count": 10,
   "metadata": {},
   "outputs": [],
   "source": [
    "pixel_width = 1920\n",
    "pixel_height = 1080\n",
    "params = [pixel_width, pixel_height]"
   ]
  },
  {
   "cell_type": "code",
   "execution_count": 11,
   "metadata": {},
   "outputs": [
    {
     "name": "stdout",
     "output_type": "stream",
     "text": [
      "Index\n",
      "Index\n",
      "Index\n",
      "Index\n",
      "Index\n",
      "Index\n",
      "Index\n",
      "Index\n",
      "Index\n",
      "Index\n",
      "data\\Alex\\Alex_text1_all_gaze_labeled.csv\n",
      "data\\Alex\\Alex_text2_all_gaze_labeled.csv\n",
      "data\\Diana\\Diana_text1_all_gaze_labeled.csv\n",
      "data\\Diana\\Diana_text2_all_gaze_labeled.csv\n",
      "data\\Misha\\Misha_text1_all_gaze_labeled.csv\n",
      "data\\Misha\\Misha_text2_all_gaze_labeled.csv\n",
      "data\\Polina\\Polina_text1_all_gaze_labeled.csv\n",
      "data\\Polina\\Polina_text2_all_gaze_labeled.csv\n",
      "data\\Valik\\Valik_text1_all_gaze_labeled.csv\n",
      "data\\Valik\\Valik_text2_all_gaze_labeled.csv\n"
     ]
    }
   ],
   "source": [
    "dfs = {}\n",
    "for file in glob.glob(\"data/*/*text*.csv\"):\n",
    "    df = pd.read_csv(file)\n",
    "    df_cols = df.columns.values\n",
    "    df_cols[4] = 'TIME'\n",
    "    df.columns = df_cols\n",
    "    dfs[file] = df[position_cols + [reading_col, time_col, valid_col]]\n",
    "    dfs[file].index.name = \"Index\"\n",
    "    print(dfs[file].index.name)\n",
    "    \n",
    "for filename, df in dfs.items():\n",
    "    print(filename)\n",
    "    for a, r, p in zip(abs_position_cols, position_cols, params):\n",
    "        df[a] = df[r]*p"
   ]
  },
  {
   "cell_type": "code",
   "execution_count": 12,
   "metadata": {},
   "outputs": [],
   "source": [
    "for k in dfs.keys():\n",
    "    dfs[k]['Name'] = k\n",
    "    dfs[k].set_index('Name',append=True,inplace=True)\n",
    "    \n",
    "data = pd.concat(dfs.values())\n",
    "data = data.reorder_levels(['Name','Index'])"
   ]
  },
  {
   "cell_type": "code",
   "execution_count": 20,
   "metadata": {},
   "outputs": [
    {
     "data": {
      "text/plain": [
       "Name                                           BPOGV\n",
       "data\\Alex\\Alex_text1_all_gaze_labeled.csv      1        14387\n",
       "                                               0          974\n",
       "data\\Alex\\Alex_text2_all_gaze_labeled.csv      1         6803\n",
       "                                               0          534\n",
       "data\\Diana\\Diana_text1_all_gaze_labeled.csv    1        10094\n",
       "                                               0         1013\n",
       "data\\Diana\\Diana_text2_all_gaze_labeled.csv    1         5558\n",
       "                                               0          457\n",
       "data\\Misha\\Misha_text1_all_gaze_labeled.csv    1        12754\n",
       "                                               0         2390\n",
       "data\\Misha\\Misha_text2_all_gaze_labeled.csv    1         6576\n",
       "                                               0          648\n",
       "data\\Polina\\Polina_text1_all_gaze_labeled.csv  1        13228\n",
       "                                               0          568\n",
       "data\\Polina\\Polina_text2_all_gaze_labeled.csv  1         4581\n",
       "                                               0          141\n",
       "data\\Valik\\Valik_text1_all_gaze_labeled.csv    1        11228\n",
       "                                               0          251\n",
       "data\\Valik\\Valik_text2_all_gaze_labeled.csv    1         5603\n",
       "                                               0          157\n",
       "Name: BPOGV, dtype: int64"
      ]
     },
     "execution_count": 20,
     "metadata": {},
     "output_type": "execute_result"
    }
   ],
   "source": [
    "data.groupby(['Name'])[valid_col].value_counts()"
   ]
  },
  {
   "cell_type": "code",
   "execution_count": 21,
   "metadata": {},
   "outputs": [
    {
     "data": {
      "text/plain": [
       "Name                                           BPOGV\n",
       "data\\Alex\\Alex_text1_all_gaze_labeled.csv      1        14387\n",
       "data\\Alex\\Alex_text2_all_gaze_labeled.csv      1         6803\n",
       "data\\Diana\\Diana_text1_all_gaze_labeled.csv    1        10094\n",
       "data\\Diana\\Diana_text2_all_gaze_labeled.csv    1         5558\n",
       "data\\Misha\\Misha_text1_all_gaze_labeled.csv    1        12754\n",
       "data\\Misha\\Misha_text2_all_gaze_labeled.csv    1         6576\n",
       "data\\Polina\\Polina_text1_all_gaze_labeled.csv  1        13228\n",
       "data\\Polina\\Polina_text2_all_gaze_labeled.csv  1         4581\n",
       "data\\Valik\\Valik_text1_all_gaze_labeled.csv    1        11228\n",
       "data\\Valik\\Valik_text2_all_gaze_labeled.csv    1         5603\n",
       "Name: BPOGV, dtype: int64"
      ]
     },
     "execution_count": 21,
     "metadata": {},
     "output_type": "execute_result"
    }
   ],
   "source": [
    "data_filtered = data.loc[data[valid_col]==1,:]\n",
    "data_filtered.groupby(['Name'])[valid_col].value_counts()"
   ]
  },
  {
   "cell_type": "markdown",
   "metadata": {},
   "source": [
    "<h3>Calculate distances between points and velocity"
   ]
  },
  {
   "cell_type": "code",
   "execution_count": null,
   "metadata": {},
   "outputs": [],
   "source": [
    "diff_cols = ['DIFF_'+c for c in abs_position_cols]\n",
    "for filename, df in dfs.items():\n",
    "    for d, c in zip(diff_cols, abs_position_cols):\n",
    "        df[d] = df[c].diff().shift(-1)\n",
    "    df[periods_col] = df[time_col].diff().shift(-1)\n",
    "    df[distances_col] = np.square(df[diff_cols]).sum(axis=1).pow(1./2)\n",
    "    df[velocity_col] = df[distances_col] / df[periods_col]\n",
    "    df = df.fillna(method='ffill')"
   ]
  }
 ],
 "metadata": {
  "kernelspec": {
   "display_name": "Python 3",
   "language": "python",
   "name": "python3"
  },
  "language_info": {
   "codemirror_mode": {
    "name": "ipython",
    "version": 3
   },
   "file_extension": ".py",
   "mimetype": "text/x-python",
   "name": "python",
   "nbconvert_exporter": "python",
   "pygments_lexer": "ipython3",
   "version": "3.6.8"
  }
 },
 "nbformat": 4,
 "nbformat_minor": 2
}
